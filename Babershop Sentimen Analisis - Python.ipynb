{
 "cells": [
  {
   "cell_type": "markdown",
   "id": "42ebb55f",
   "metadata": {},
   "source": [
    "# Instalasi Dependensi\n",
    "Program ini membutuhkan dependensi sebagai berikut untuk dapat bekerja:\n",
    "1. Pytorch\n",
    "2. Beautifulsoup4\n",
    "3. Pandas\n",
    "4. Request\n",
    "5. Numpy\n",
    "6. Transformers"
   ]
  },
  {
   "cell_type": "code",
   "execution_count": 3,
   "id": "0ef6ebc9",
   "metadata": {
    "collapsed": true
   },
   "outputs": [
    {
     "name": "stdout",
     "output_type": "stream",
     "text": [
      "Looking in links: https://download.pytorch.org/whl/cu113/torch_stable.html\n",
      "Collecting torch==1.10.0+cu113\n",
      "  Downloading https://download.pytorch.org/whl/cu113/torch-1.10.0%2Bcu113-cp38-cp38-win_amd64.whl (2442.4 MB)\n",
      "Collecting torchvision==0.11.1+cu113\n",
      "  Downloading https://download.pytorch.org/whl/cu113/torchvision-0.11.1%2Bcu113-cp38-cp38-win_amd64.whl (3.2 MB)\n",
      "Collecting torchaudio===0.10.0+cu113\n",
      "  Downloading https://download.pytorch.org/whl/cu113/torchaudio-0.10.0%2Bcu113-cp38-cp38-win_amd64.whl (336 kB)\n",
      "Requirement already satisfied: typing-extensions in c:\\users\\harya\\anaconda3\\lib\\site-packages (from torch==1.10.0+cu113) (3.7.4.3)\n",
      "Requirement already satisfied: pillow!=8.3.0,>=5.3.0 in c:\\users\\harya\\anaconda3\\lib\\site-packages (from torchvision==0.11.1+cu113) (8.2.0)\n",
      "Requirement already satisfied: numpy in c:\\users\\harya\\anaconda3\\lib\\site-packages (from torchvision==0.11.1+cu113) (1.21.2)\n",
      "Installing collected packages: torch, torchvision, torchaudio\n",
      "Successfully installed torch-1.10.0+cu113 torchaudio-0.10.0+cu113 torchvision-0.11.1+cu113\n"
     ]
    }
   ],
   "source": [
    "!pip3 install torch==1.10.0+cu113 torchvision==0.11.1+cu113 torchaudio===0.10.0+cu113 -f https://download.pytorch.org/whl/cu113/torch_stable.html"
   ]
  },
  {
   "cell_type": "code",
   "execution_count": 4,
   "id": "31aae00c",
   "metadata": {
    "collapsed": true
   },
   "outputs": [
    {
     "name": "stdout",
     "output_type": "stream",
     "text": [
      "Collecting transformers\n",
      "  Downloading transformers-4.12.5-py3-none-any.whl (3.1 MB)\n",
      "Requirement already satisfied: requests in c:\\users\\harya\\anaconda3\\lib\\site-packages (2.25.1)\n",
      "Requirement already satisfied: beautifulsoup4 in c:\\users\\harya\\anaconda3\\lib\\site-packages (4.9.3)\n",
      "Requirement already satisfied: pandas in c:\\users\\harya\\anaconda3\\lib\\site-packages (1.2.4)\n",
      "Requirement already satisfied: numpy in c:\\users\\harya\\anaconda3\\lib\\site-packages (1.21.2)\n",
      "Requirement already satisfied: soupsieve>1.2 in c:\\users\\harya\\anaconda3\\lib\\site-packages (from beautifulsoup4) (2.2.1)\n",
      "Requirement already satisfied: python-dateutil>=2.7.3 in c:\\users\\harya\\anaconda3\\lib\\site-packages (from pandas) (2.8.1)\n",
      "Requirement already satisfied: pytz>=2017.3 in c:\\users\\harya\\anaconda3\\lib\\site-packages (from pandas) (2021.1)\n",
      "Requirement already satisfied: six>=1.5 in c:\\users\\harya\\anaconda3\\lib\\site-packages (from python-dateutil>=2.7.3->pandas) (1.15.0)\n",
      "Requirement already satisfied: idna<3,>=2.5 in c:\\users\\harya\\anaconda3\\lib\\site-packages (from requests) (2.10)\n",
      "Requirement already satisfied: chardet<5,>=3.0.2 in c:\\users\\harya\\anaconda3\\lib\\site-packages (from requests) (4.0.0)\n",
      "Requirement already satisfied: urllib3<1.27,>=1.21.1 in c:\\users\\harya\\anaconda3\\lib\\site-packages (from requests) (1.26.4)\n",
      "Requirement already satisfied: certifi>=2017.4.17 in c:\\users\\harya\\anaconda3\\lib\\site-packages (from requests) (2021.10.8)\n",
      "Requirement already satisfied: tqdm>=4.27 in c:\\users\\harya\\anaconda3\\lib\\site-packages (from transformers) (4.59.0)\n",
      "Requirement already satisfied: filelock in c:\\users\\harya\\anaconda3\\lib\\site-packages (from transformers) (3.0.12)\n",
      "Collecting tokenizers<0.11,>=0.10.1\n",
      "  Downloading tokenizers-0.10.3-cp38-cp38-win_amd64.whl (2.0 MB)\n",
      "Collecting sacremoses\n",
      "  Downloading sacremoses-0.0.46-py3-none-any.whl (895 kB)\n",
      "Requirement already satisfied: regex!=2019.12.17 in c:\\users\\harya\\anaconda3\\lib\\site-packages (from transformers) (2021.4.4)\n",
      "Requirement already satisfied: pyyaml>=5.1 in c:\\users\\harya\\anaconda3\\lib\\site-packages (from transformers) (5.4.1)\n",
      "Requirement already satisfied: packaging>=20.0 in c:\\users\\harya\\anaconda3\\lib\\site-packages (from transformers) (20.9)\n",
      "Collecting huggingface-hub<1.0,>=0.1.0\n",
      "  Downloading huggingface_hub-0.1.2-py3-none-any.whl (59 kB)\n",
      "Requirement already satisfied: typing-extensions>=3.7.4.3 in c:\\users\\harya\\anaconda3\\lib\\site-packages (from huggingface-hub<1.0,>=0.1.0->transformers) (3.7.4.3)\n",
      "Requirement already satisfied: pyparsing>=2.0.2 in c:\\users\\harya\\anaconda3\\lib\\site-packages (from packaging>=20.0->transformers) (2.4.7)\n",
      "Requirement already satisfied: click in c:\\users\\harya\\anaconda3\\lib\\site-packages (from sacremoses->transformers) (7.1.2)\n",
      "Requirement already satisfied: joblib in c:\\users\\harya\\anaconda3\\lib\\site-packages (from sacremoses->transformers) (1.0.1)\n",
      "Installing collected packages: tokenizers, sacremoses, huggingface-hub, transformers\n",
      "Successfully installed huggingface-hub-0.1.2 sacremoses-0.0.46 tokenizers-0.10.3 transformers-4.12.5\n"
     ]
    }
   ],
   "source": [
    "!pip install transformers requests beautifulsoup4 pandas numpy"
   ]
  },
  {
   "cell_type": "code",
   "execution_count": 35,
   "id": "07f9e326",
   "metadata": {},
   "outputs": [],
   "source": [
    "from transformers import AutoTokenizer, AutoModelForSequenceClassification\n",
    "import torch\n",
    "import requests\n",
    "from bs4 import BeautifulSoup\n",
    "import re\n",
    "import pandas as pd\n",
    "import numpy as np"
   ]
  },
  {
   "cell_type": "markdown",
   "id": "d5657029",
   "metadata": {},
   "source": [
    "# Instansiasi Model"
   ]
  },
  {
   "cell_type": "code",
   "execution_count": 11,
   "id": "8e2a9afe",
   "metadata": {},
   "outputs": [],
   "source": [
    "tokenizer = AutoTokenizer.from_pretrained('nlptown/bert-base-multilingual-uncased-sentiment')\n",
    "\n",
    "model = AutoModelForSequenceClassification.from_pretrained('nlptown/bert-base-multilingual-uncased-sentiment')"
   ]
  },
  {
   "cell_type": "code",
   "execution_count": 17,
   "id": "d9566cdc",
   "metadata": {},
   "outputs": [],
   "source": [
    "tokens = tokenizer.encode('I like this place very much', return_tensors='pt')"
   ]
  },
  {
   "cell_type": "code",
   "execution_count": 18,
   "id": "13810349",
   "metadata": {},
   "outputs": [],
   "source": [
    "result = model(tokens)"
   ]
  },
  {
   "cell_type": "code",
   "execution_count": 19,
   "id": "cbd765d1",
   "metadata": {},
   "outputs": [
    {
     "data": {
      "text/plain": [
       "tensor([[-2.8710, -2.6713, -0.3257,  2.2029,  2.8135]],\n",
       "       grad_fn=<AddmmBackward0>)"
      ]
     },
     "execution_count": 19,
     "metadata": {},
     "output_type": "execute_result"
    }
   ],
   "source": [
    "result.logits"
   ]
  },
  {
   "cell_type": "code",
   "execution_count": 20,
   "id": "9bc17e45",
   "metadata": {},
   "outputs": [
    {
     "data": {
      "text/plain": [
       "5"
      ]
     },
     "execution_count": 20,
     "metadata": {},
     "output_type": "execute_result"
    }
   ],
   "source": [
    "int(torch.argmax(result.logits))+1"
   ]
  },
  {
   "cell_type": "markdown",
   "id": "bb74233c",
   "metadata": {},
   "source": [
    "# Data Collection\n",
    "\n",
    "Data text yang diambil oleh program ini didapatkan dari website https://www.yelp.com/biz/chicago-2-barbershop-san-francisco?osq=Black+Owned+Barber+Shops sebagai bentuk ulasan Toko Babershop yang ada di Amerika."
   ]
  },
  {
   "cell_type": "code",
   "execution_count": 21,
   "id": "bd60adf1",
   "metadata": {},
   "outputs": [],
   "source": [
    "r = requests.get('https://www.yelp.com/biz/chicago-2-barbershop-san-francisco?osq=Black+Owned+Barber+Shops')\n",
    "soup = BeautifulSoup(r.text, 'html.parser')\n",
    "regex = re.compile('.*comment.*')\n",
    "results = soup.find_all('p', {'class':regex})\n",
    "reviews = [result.text for result in results]"
   ]
  },
  {
   "cell_type": "code",
   "execution_count": 33,
   "id": "c5564729",
   "metadata": {
    "collapsed": true
   },
   "outputs": [
    {
     "name": "stdout",
     "output_type": "stream",
     "text": [
      "Being from NYC I take my cuts really seriously and was nervous about how the guys in the bay cut hair out here. Jabari T laced me with a fresh tape-er/tape-up. He is very professional, very meticulous, very gentle with the clippers ( I have sensitive skin), and takes direction well. The shop is black-owned and gives a classic barbershop vibe that just feels right. I highly recommend this place and Jabari if you are ever in the bay area.\n",
      "\n",
      "Recommend  by a friend   Great  Barber Tamura !!! will come back definitely  will bring my boys  and the best cut and very detail  professional  glad I found this guy worth  it\n",
      "\n",
      "I was excited to go here, I thought it was an institution, but it was probably the worst haircut I've ever had. Never again!\n",
      "\n",
      "I'm not one to give reviews but this was an experience to remember. I got an appointment for a beard groom for the same day as I had some spare time and my usual barber was not available.Before sitting down in the chair I explicitly told the barber that I wanted to shorten the length, keep the v shape and fade it. When he started using the razor I warned him that I had some sensitive skin so probably should be careful with it. After five minutes he tells me that he is \"done\" after basically outlining a bit, cutting me with the razor a couple of times and leaving the same length. I complained that wasn't what I asked him for and he tells me that I was paying for a groom (that included a trim) and I was asking for a styling (that was going to be 50% more), a service they didn't even have in their page. After telling him \"then let's just stop here\" he insisted he would do it without charging more \"as you didn't know\". After talking for a while I ended up staying, putting up with more cuts with the razor until the result was o-kay (while he kept repeating he was the best barber in the whole shop and no one could do what he did (I want to think few barbers can leave these scars, Sweeney Todd impersonator)). I tried to pay with card but oh, surprise they didn't take cards, only apple pay. At that point I just wanted out so offered to pay in cash, when I told him \"so how much after all this?\" Seeing me counting bills he just said \"just give me what you have\". So, yeah, gentlemen, if you want to feel practically mugged with some scars to remember (physical and emotional), this is your barbershop. For everyone else, you can do better and cheaper.\n",
      "\n",
      "That boy Temur gave me the cleanest pompadour !!! Also He's super gentle and almost put me to sleep with the clippers. He's super friendly and you can tell he loves what he does\n",
      "\n",
      "Schedule an appointment with Temur!  Friendly, professional and precise! Have been following and using him for two years and won't get cut by anyone else.\n",
      "\n",
      "Temur is very precise  with fades and any other haircut.you won't be disappointed with him.thank me later\n",
      "\n",
      "Temur make one of the best fresh cuts! Definitely getting another appointment with him!\n",
      "\n",
      "Joe is awesome, both his attention to detail and his craftsmanship.  Best beard trim of my life!  He is a 4th generation barber, born and raised in SF, and you can tell all of this by his old-school style.  Highly recommend!\n",
      "\n",
      "Man the vibes was great! Loved the music. I went in yesterday just for a cut because my barber was out of town. I was a walk in and a Italian dude cut my hair and messed it all up my hair line got pushed backed for no reason the cut sucked. The guy was cool but my haircut was bogus for the price he charged I could've went to peoples barber and could of got a nice blend but I will never spend my money on a person who don't got passion for hair !\n",
      "\n"
     ]
    }
   ],
   "source": [
    "for review in reviews:\n",
    "    print(f'{review}\\n')"
   ]
  },
  {
   "cell_type": "markdown",
   "id": "b6cb78ea",
   "metadata": {},
   "source": [
    "# Melakuan Scoring"
   ]
  },
  {
   "cell_type": "code",
   "execution_count": 36,
   "id": "f56d328e",
   "metadata": {},
   "outputs": [],
   "source": [
    "df = pd.DataFrame(np.array(reviews), columns=['review'])"
   ]
  },
  {
   "cell_type": "code",
   "execution_count": 37,
   "id": "794aa923",
   "metadata": {},
   "outputs": [
    {
     "data": {
      "text/html": [
       "<div>\n",
       "<style scoped>\n",
       "    .dataframe tbody tr th:only-of-type {\n",
       "        vertical-align: middle;\n",
       "    }\n",
       "\n",
       "    .dataframe tbody tr th {\n",
       "        vertical-align: top;\n",
       "    }\n",
       "\n",
       "    .dataframe thead th {\n",
       "        text-align: right;\n",
       "    }\n",
       "</style>\n",
       "<table border=\"1\" class=\"dataframe\">\n",
       "  <thead>\n",
       "    <tr style=\"text-align: right;\">\n",
       "      <th></th>\n",
       "      <th>review</th>\n",
       "    </tr>\n",
       "  </thead>\n",
       "  <tbody>\n",
       "    <tr>\n",
       "      <th>0</th>\n",
       "      <td>Being from NYC I take my cuts really seriously...</td>\n",
       "    </tr>\n",
       "    <tr>\n",
       "      <th>1</th>\n",
       "      <td>Recommend  by a friend   Great  Barber Tamura ...</td>\n",
       "    </tr>\n",
       "    <tr>\n",
       "      <th>2</th>\n",
       "      <td>I was excited to go here, I thought it was an ...</td>\n",
       "    </tr>\n",
       "    <tr>\n",
       "      <th>3</th>\n",
       "      <td>I'm not one to give reviews but this was an ex...</td>\n",
       "    </tr>\n",
       "    <tr>\n",
       "      <th>4</th>\n",
       "      <td>That boy Temur gave me the cleanest pompadour ...</td>\n",
       "    </tr>\n",
       "  </tbody>\n",
       "</table>\n",
       "</div>"
      ],
      "text/plain": [
       "                                              review\n",
       "0  Being from NYC I take my cuts really seriously...\n",
       "1  Recommend  by a friend   Great  Barber Tamura ...\n",
       "2  I was excited to go here, I thought it was an ...\n",
       "3  I'm not one to give reviews but this was an ex...\n",
       "4  That boy Temur gave me the cleanest pompadour ..."
      ]
     },
     "execution_count": 37,
     "metadata": {},
     "output_type": "execute_result"
    }
   ],
   "source": [
    "df.head()"
   ]
  },
  {
   "cell_type": "code",
   "execution_count": 40,
   "id": "211d47f4",
   "metadata": {},
   "outputs": [],
   "source": [
    "def sentiment_score(review):\n",
    "    tokens = tokenizer.encode(review, return_tensors='pt')\n",
    "    result = model(tokens)\n",
    "    return int(torch.argmax(result.logits))+1"
   ]
  },
  {
   "cell_type": "code",
   "execution_count": 42,
   "id": "0369aca1",
   "metadata": {},
   "outputs": [
    {
     "data": {
      "text/plain": [
       "5"
      ]
     },
     "execution_count": 42,
     "metadata": {},
     "output_type": "execute_result"
    }
   ],
   "source": [
    "sentiment_score(df['review'].iloc[1])"
   ]
  },
  {
   "cell_type": "code",
   "execution_count": 43,
   "id": "39c8fbb7",
   "metadata": {},
   "outputs": [],
   "source": [
    "df['sentiment'] = df['review'].apply(lambda x: sentiment_score(x[:512]))"
   ]
  },
  {
   "cell_type": "code",
   "execution_count": 44,
   "id": "18a4d6df",
   "metadata": {},
   "outputs": [
    {
     "data": {
      "text/html": [
       "<div>\n",
       "<style scoped>\n",
       "    .dataframe tbody tr th:only-of-type {\n",
       "        vertical-align: middle;\n",
       "    }\n",
       "\n",
       "    .dataframe tbody tr th {\n",
       "        vertical-align: top;\n",
       "    }\n",
       "\n",
       "    .dataframe thead th {\n",
       "        text-align: right;\n",
       "    }\n",
       "</style>\n",
       "<table border=\"1\" class=\"dataframe\">\n",
       "  <thead>\n",
       "    <tr style=\"text-align: right;\">\n",
       "      <th></th>\n",
       "      <th>review</th>\n",
       "      <th>sentiment</th>\n",
       "    </tr>\n",
       "  </thead>\n",
       "  <tbody>\n",
       "    <tr>\n",
       "      <th>0</th>\n",
       "      <td>Being from NYC I take my cuts really seriously...</td>\n",
       "      <td>5</td>\n",
       "    </tr>\n",
       "    <tr>\n",
       "      <th>1</th>\n",
       "      <td>Recommend  by a friend   Great  Barber Tamura ...</td>\n",
       "      <td>5</td>\n",
       "    </tr>\n",
       "    <tr>\n",
       "      <th>2</th>\n",
       "      <td>I was excited to go here, I thought it was an ...</td>\n",
       "      <td>1</td>\n",
       "    </tr>\n",
       "    <tr>\n",
       "      <th>3</th>\n",
       "      <td>I'm not one to give reviews but this was an ex...</td>\n",
       "      <td>4</td>\n",
       "    </tr>\n",
       "    <tr>\n",
       "      <th>4</th>\n",
       "      <td>That boy Temur gave me the cleanest pompadour ...</td>\n",
       "      <td>5</td>\n",
       "    </tr>\n",
       "    <tr>\n",
       "      <th>5</th>\n",
       "      <td>Schedule an appointment with Temur!  Friendly,...</td>\n",
       "      <td>5</td>\n",
       "    </tr>\n",
       "    <tr>\n",
       "      <th>6</th>\n",
       "      <td>Temur is very precise  with fades and any othe...</td>\n",
       "      <td>5</td>\n",
       "    </tr>\n",
       "    <tr>\n",
       "      <th>7</th>\n",
       "      <td>Temur make one of the best fresh cuts! Definit...</td>\n",
       "      <td>5</td>\n",
       "    </tr>\n",
       "    <tr>\n",
       "      <th>8</th>\n",
       "      <td>Joe is awesome, both his attention to detail a...</td>\n",
       "      <td>5</td>\n",
       "    </tr>\n",
       "    <tr>\n",
       "      <th>9</th>\n",
       "      <td>Man the vibes was great! Loved the music. I we...</td>\n",
       "      <td>5</td>\n",
       "    </tr>\n",
       "  </tbody>\n",
       "</table>\n",
       "</div>"
      ],
      "text/plain": [
       "                                              review  sentiment\n",
       "0  Being from NYC I take my cuts really seriously...          5\n",
       "1  Recommend  by a friend   Great  Barber Tamura ...          5\n",
       "2  I was excited to go here, I thought it was an ...          1\n",
       "3  I'm not one to give reviews but this was an ex...          4\n",
       "4  That boy Temur gave me the cleanest pompadour ...          5\n",
       "5  Schedule an appointment with Temur!  Friendly,...          5\n",
       "6  Temur is very precise  with fades and any othe...          5\n",
       "7  Temur make one of the best fresh cuts! Definit...          5\n",
       "8  Joe is awesome, both his attention to detail a...          5\n",
       "9  Man the vibes was great! Loved the music. I we...          5"
      ]
     },
     "execution_count": 44,
     "metadata": {},
     "output_type": "execute_result"
    }
   ],
   "source": [
    "df"
   ]
  },
  {
   "cell_type": "markdown",
   "id": "52398de4",
   "metadata": {},
   "source": [
    "# Export Hasil Dataframe ke Bentuk CSV"
   ]
  },
  {
   "cell_type": "code",
   "execution_count": 46,
   "id": "8693de5c",
   "metadata": {},
   "outputs": [],
   "source": [
    "df.to_csv('sentiment.csv')"
   ]
  }
 ],
 "metadata": {
  "kernelspec": {
   "display_name": "Python 3",
   "language": "python",
   "name": "python3"
  },
  "language_info": {
   "codemirror_mode": {
    "name": "ipython",
    "version": 3
   },
   "file_extension": ".py",
   "mimetype": "text/x-python",
   "name": "python",
   "nbconvert_exporter": "python",
   "pygments_lexer": "ipython3",
   "version": "3.8.8"
  }
 },
 "nbformat": 4,
 "nbformat_minor": 5
}
